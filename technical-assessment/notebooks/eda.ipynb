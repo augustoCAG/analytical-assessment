{
 "cells": [
  {
   "cell_type": "markdown",
   "id": "dc9c6bda",
   "metadata": {},
   "source": [
    "# Exploratory Data Analysis"
   ]
  },
  {
   "cell_type": "markdown",
   "id": "6d5af7dc",
   "metadata": {},
   "source": [
    "### Import packages"
   ]
  },
  {
   "cell_type": "code",
   "execution_count": 1,
   "id": "148569e7",
   "metadata": {},
   "outputs": [],
   "source": [
    "import pandas as pd"
   ]
  },
  {
   "cell_type": "markdown",
   "id": "283408ef",
   "metadata": {},
   "source": [
    "### Players data"
   ]
  },
  {
   "cell_type": "code",
   "execution_count": 2,
   "id": "e7bac82a",
   "metadata": {},
   "outputs": [
    {
     "data": {
      "text/html": [
       "<div>\n",
       "<style scoped>\n",
       "    .dataframe tbody tr th:only-of-type {\n",
       "        vertical-align: middle;\n",
       "    }\n",
       "\n",
       "    .dataframe tbody tr th {\n",
       "        vertical-align: top;\n",
       "    }\n",
       "\n",
       "    .dataframe thead th {\n",
       "        text-align: right;\n",
       "    }\n",
       "</style>\n",
       "<table border=\"1\" class=\"dataframe\">\n",
       "  <thead>\n",
       "    <tr style=\"text-align: right;\">\n",
       "      <th></th>\n",
       "      <th>id</th>\n",
       "      <th>affiliate_id</th>\n",
       "      <th>country_code</th>\n",
       "      <th>is_kyc_approved</th>\n",
       "      <th>created_at</th>\n",
       "      <th>updated_at</th>\n",
       "    </tr>\n",
       "  </thead>\n",
       "  <tbody>\n",
       "    <tr>\n",
       "      <th>0</th>\n",
       "      <td>1</td>\n",
       "      <td>1.0</td>\n",
       "      <td>DE</td>\n",
       "      <td>True</td>\n",
       "      <td>2024-01-10 17:07:01+00:00</td>\n",
       "      <td>2024-02-08 09:05:26+00:00</td>\n",
       "    </tr>\n",
       "    <tr>\n",
       "      <th>1</th>\n",
       "      <td>2</td>\n",
       "      <td>NaN</td>\n",
       "      <td>BR</td>\n",
       "      <td>True</td>\n",
       "      <td>2024-02-09 19:19:27+00:00</td>\n",
       "      <td>2024-03-05 08:06:20+00:00</td>\n",
       "    </tr>\n",
       "    <tr>\n",
       "      <th>2</th>\n",
       "      <td>3</td>\n",
       "      <td>2.0</td>\n",
       "      <td>BR</td>\n",
       "      <td>True</td>\n",
       "      <td>2024-02-13 05:40:50+00:00</td>\n",
       "      <td>2024-02-17 10:58:17+00:00</td>\n",
       "    </tr>\n",
       "    <tr>\n",
       "      <th>3</th>\n",
       "      <td>4</td>\n",
       "      <td>3.0</td>\n",
       "      <td>GB</td>\n",
       "      <td>True</td>\n",
       "      <td>2024-02-24 04:35:15+00:00</td>\n",
       "      <td>2024-03-05 19:19:09+00:00</td>\n",
       "    </tr>\n",
       "    <tr>\n",
       "      <th>4</th>\n",
       "      <td>5</td>\n",
       "      <td>4.0</td>\n",
       "      <td>AU</td>\n",
       "      <td>False</td>\n",
       "      <td>2024-03-27 16:28:29+00:00</td>\n",
       "      <td>2024-04-01 05:38:15+00:00</td>\n",
       "    </tr>\n",
       "  </tbody>\n",
       "</table>\n",
       "</div>"
      ],
      "text/plain": [
       "   id  affiliate_id country_code  is_kyc_approved                 created_at  \\\n",
       "0   1           1.0           DE             True  2024-01-10 17:07:01+00:00   \n",
       "1   2           NaN           BR             True  2024-02-09 19:19:27+00:00   \n",
       "2   3           2.0           BR             True  2024-02-13 05:40:50+00:00   \n",
       "3   4           3.0           GB             True  2024-02-24 04:35:15+00:00   \n",
       "4   5           4.0           AU            False  2024-03-27 16:28:29+00:00   \n",
       "\n",
       "                  updated_at  \n",
       "0  2024-02-08 09:05:26+00:00  \n",
       "1  2024-03-05 08:06:20+00:00  \n",
       "2  2024-02-17 10:58:17+00:00  \n",
       "3  2024-03-05 19:19:09+00:00  \n",
       "4  2024-04-01 05:38:15+00:00  "
      ]
     },
     "execution_count": 2,
     "metadata": {},
     "output_type": "execute_result"
    }
   ],
   "source": [
    "ROOT = '/Users/augustocardosoagostini/Desktop/Outros Documentos/Documentos Gerais/trainings/dbt_airflow/project/analytical-assessment/technical-assessment/data'\n",
    "\n",
    "df_players = pd.read_csv(f\"{ROOT}/Sample_data_-_Technical_Interview_-_players.csv\")\n",
    "\n",
    "df_players.head()"
   ]
  },
  {
   "cell_type": "code",
   "execution_count": 3,
   "id": "afaa5950",
   "metadata": {},
   "outputs": [
    {
     "name": "stdout",
     "output_type": "stream",
     "text": [
      "<class 'pandas.core.frame.DataFrame'>\n",
      "RangeIndex: 11 entries, 0 to 10\n",
      "Data columns (total 6 columns):\n",
      " #   Column           Non-Null Count  Dtype  \n",
      "---  ------           --------------  -----  \n",
      " 0   id               11 non-null     int64  \n",
      " 1   affiliate_id     9 non-null      float64\n",
      " 2   country_code     11 non-null     object \n",
      " 3   is_kyc_approved  11 non-null     bool   \n",
      " 4   created_at       11 non-null     object \n",
      " 5   updated_at       11 non-null     object \n",
      "dtypes: bool(1), float64(1), int64(1), object(3)\n",
      "memory usage: 579.0+ bytes\n"
     ]
    }
   ],
   "source": [
    "df_players.info()"
   ]
  },
  {
   "cell_type": "markdown",
   "id": "5f4f3f60",
   "metadata": {},
   "source": [
    "### Affiliates data"
   ]
  },
  {
   "cell_type": "code",
   "execution_count": 4,
   "id": "f01ebcc2",
   "metadata": {},
   "outputs": [
    {
     "data": {
      "text/html": [
       "<div>\n",
       "<style scoped>\n",
       "    .dataframe tbody tr th:only-of-type {\n",
       "        vertical-align: middle;\n",
       "    }\n",
       "\n",
       "    .dataframe tbody tr th {\n",
       "        vertical-align: top;\n",
       "    }\n",
       "\n",
       "    .dataframe thead th {\n",
       "        text-align: right;\n",
       "    }\n",
       "</style>\n",
       "<table border=\"1\" class=\"dataframe\">\n",
       "  <thead>\n",
       "    <tr style=\"text-align: right;\">\n",
       "      <th></th>\n",
       "      <th>id</th>\n",
       "      <th>code</th>\n",
       "      <th>origin</th>\n",
       "      <th>redeemed_at</th>\n",
       "    </tr>\n",
       "  </thead>\n",
       "  <tbody>\n",
       "    <tr>\n",
       "      <th>0</th>\n",
       "      <td>1</td>\n",
       "      <td>DWEHSP</td>\n",
       "      <td>YouTube</td>\n",
       "      <td>2024-01-10 17:07:01+00:00</td>\n",
       "    </tr>\n",
       "    <tr>\n",
       "      <th>1</th>\n",
       "      <td>2</td>\n",
       "      <td>QGKTBC</td>\n",
       "      <td>Discord</td>\n",
       "      <td>2024-02-13 05:40:50+00:00</td>\n",
       "    </tr>\n",
       "    <tr>\n",
       "      <th>2</th>\n",
       "      <td>3</td>\n",
       "      <td>YRLUJA</td>\n",
       "      <td>X</td>\n",
       "      <td>2024-02-24 04:35:15+00:00</td>\n",
       "    </tr>\n",
       "    <tr>\n",
       "      <th>3</th>\n",
       "      <td>4</td>\n",
       "      <td>ZXCVBN</td>\n",
       "      <td>NaN</td>\n",
       "      <td>2024-03-27 16:28:29+00:00</td>\n",
       "    </tr>\n",
       "    <tr>\n",
       "      <th>4</th>\n",
       "      <td>5</td>\n",
       "      <td>POIUYT</td>\n",
       "      <td>YouTube</td>\n",
       "      <td>2024-04-16 19:27:32+00:00</td>\n",
       "    </tr>\n",
       "  </tbody>\n",
       "</table>\n",
       "</div>"
      ],
      "text/plain": [
       "   id    code   origin                redeemed_at\n",
       "0   1  DWEHSP  YouTube  2024-01-10 17:07:01+00:00\n",
       "1   2  QGKTBC  Discord  2024-02-13 05:40:50+00:00\n",
       "2   3  YRLUJA        X  2024-02-24 04:35:15+00:00\n",
       "3   4  ZXCVBN      NaN  2024-03-27 16:28:29+00:00\n",
       "4   5  POIUYT  YouTube  2024-04-16 19:27:32+00:00"
      ]
     },
     "execution_count": 4,
     "metadata": {},
     "output_type": "execute_result"
    }
   ],
   "source": [
    "df_affiliates = pd.read_csv(f\"{ROOT}/Sample_data_-_Technical_Interview_-_affiliates.csv\")\n",
    "\n",
    "df_affiliates.head()"
   ]
  },
  {
   "cell_type": "code",
   "execution_count": 5,
   "id": "ef2bb5b7",
   "metadata": {},
   "outputs": [
    {
     "name": "stdout",
     "output_type": "stream",
     "text": [
      "<class 'pandas.core.frame.DataFrame'>\n",
      "RangeIndex: 10 entries, 0 to 9\n",
      "Data columns (total 4 columns):\n",
      " #   Column       Non-Null Count  Dtype \n",
      "---  ------       --------------  ----- \n",
      " 0   id           10 non-null     int64 \n",
      " 1   code         10 non-null     object\n",
      " 2   origin       8 non-null      object\n",
      " 3   redeemed_at  8 non-null      object\n",
      "dtypes: int64(1), object(3)\n",
      "memory usage: 448.0+ bytes\n"
     ]
    }
   ],
   "source": [
    "df_affiliates.info()"
   ]
  },
  {
   "cell_type": "markdown",
   "id": "75b71ddb",
   "metadata": {},
   "source": [
    "### Transactions data"
   ]
  },
  {
   "cell_type": "code",
   "execution_count": 6,
   "id": "8f8902fc",
   "metadata": {},
   "outputs": [
    {
     "data": {
      "text/html": [
       "<div>\n",
       "<style scoped>\n",
       "    .dataframe tbody tr th:only-of-type {\n",
       "        vertical-align: middle;\n",
       "    }\n",
       "\n",
       "    .dataframe tbody tr th {\n",
       "        vertical-align: top;\n",
       "    }\n",
       "\n",
       "    .dataframe thead th {\n",
       "        text-align: right;\n",
       "    }\n",
       "</style>\n",
       "<table border=\"1\" class=\"dataframe\">\n",
       "  <thead>\n",
       "    <tr style=\"text-align: right;\">\n",
       "      <th></th>\n",
       "      <th>id</th>\n",
       "      <th>timestamp</th>\n",
       "      <th>player_id</th>\n",
       "      <th>type</th>\n",
       "      <th>amount</th>\n",
       "    </tr>\n",
       "  </thead>\n",
       "  <tbody>\n",
       "    <tr>\n",
       "      <th>0</th>\n",
       "      <td>1</td>\n",
       "      <td>2024-01-10 17:07:01+00:00</td>\n",
       "      <td>7</td>\n",
       "      <td>Withdraw</td>\n",
       "      <td>213.13</td>\n",
       "    </tr>\n",
       "    <tr>\n",
       "      <th>1</th>\n",
       "      <td>2</td>\n",
       "      <td>2024-02-09 19:19:27+00:00</td>\n",
       "      <td>4</td>\n",
       "      <td>Withdraw</td>\n",
       "      <td>182.64</td>\n",
       "    </tr>\n",
       "    <tr>\n",
       "      <th>2</th>\n",
       "      <td>3</td>\n",
       "      <td>2024-02-13 05:40:50+00:00</td>\n",
       "      <td>8</td>\n",
       "      <td>Withdraw</td>\n",
       "      <td>184.22</td>\n",
       "    </tr>\n",
       "    <tr>\n",
       "      <th>3</th>\n",
       "      <td>4</td>\n",
       "      <td>2024-02-24 04:35:15+00:00</td>\n",
       "      <td>5</td>\n",
       "      <td>Deposit</td>\n",
       "      <td>304.94</td>\n",
       "    </tr>\n",
       "    <tr>\n",
       "      <th>4</th>\n",
       "      <td>5</td>\n",
       "      <td>2024-03-27 16:28:29+00:00</td>\n",
       "      <td>7</td>\n",
       "      <td>Withdraw</td>\n",
       "      <td>525.23</td>\n",
       "    </tr>\n",
       "  </tbody>\n",
       "</table>\n",
       "</div>"
      ],
      "text/plain": [
       "   id                  timestamp  player_id      type  amount\n",
       "0   1  2024-01-10 17:07:01+00:00          7  Withdraw  213.13\n",
       "1   2  2024-02-09 19:19:27+00:00          4  Withdraw  182.64\n",
       "2   3  2024-02-13 05:40:50+00:00          8  Withdraw  184.22\n",
       "3   4  2024-02-24 04:35:15+00:00          5   Deposit  304.94\n",
       "4   5  2024-03-27 16:28:29+00:00          7  Withdraw  525.23"
      ]
     },
     "execution_count": 6,
     "metadata": {},
     "output_type": "execute_result"
    }
   ],
   "source": [
    "df_transactions = pd.read_csv(f\"{ROOT}/Sample_data_-_Technical_Interview_-_transactions.csv\")\n",
    "\n",
    "df_transactions.head()"
   ]
  },
  {
   "cell_type": "code",
   "execution_count": 7,
   "id": "e30dd534",
   "metadata": {},
   "outputs": [
    {
     "name": "stdout",
     "output_type": "stream",
     "text": [
      "<class 'pandas.core.frame.DataFrame'>\n",
      "RangeIndex: 10 entries, 0 to 9\n",
      "Data columns (total 5 columns):\n",
      " #   Column     Non-Null Count  Dtype  \n",
      "---  ------     --------------  -----  \n",
      " 0   id         10 non-null     int64  \n",
      " 1   timestamp  10 non-null     object \n",
      " 2   player_id  10 non-null     int64  \n",
      " 3   type       10 non-null     object \n",
      " 4   amount     10 non-null     float64\n",
      "dtypes: float64(1), int64(2), object(2)\n",
      "memory usage: 528.0+ bytes\n"
     ]
    }
   ],
   "source": [
    "df_transactions.info()"
   ]
  },
  {
   "cell_type": "markdown",
   "id": "0282dd0a",
   "metadata": {},
   "source": [
    "### Check IDs"
   ]
  },
  {
   "cell_type": "code",
   "execution_count": 8,
   "id": "aea87734",
   "metadata": {},
   "outputs": [
    {
     "name": "stdout",
     "output_type": "stream",
     "text": [
      "4\n",
      "1\n",
      "{1, 2, 6, 9}\n"
     ]
    }
   ],
   "source": [
    "# Check if there are duplicated ids in transactions and players (player_id)\n",
    "print(df_transactions['player_id'].duplicated().sum())\n",
    "print(df_players['id'].duplicated().sum())\n",
    "print(set(df_players['id']) - set(df_transactions['player_id']))"
   ]
  },
  {
   "cell_type": "code",
   "execution_count": 9,
   "id": "2741f9cb",
   "metadata": {},
   "outputs": [
    {
     "name": "stdout",
     "output_type": "stream",
     "text": [
      "0\n",
      "2\n",
      "{9, 10}\n"
     ]
    }
   ],
   "source": [
    "# Check if there are duplicated ids in affiliates and players (affiliate_id)\n",
    "print(df_affiliates['id'].duplicated().sum())\n",
    "print(df_players['affiliate_id'].duplicated().sum())\n",
    "print(set(df_affiliates['id']) - set(df_players['affiliate_id']))"
   ]
  },
  {
   "cell_type": "code",
   "execution_count": 10,
   "id": "926a1b12",
   "metadata": {},
   "outputs": [
    {
     "data": {
      "text/html": [
       "<div>\n",
       "<style scoped>\n",
       "    .dataframe tbody tr th:only-of-type {\n",
       "        vertical-align: middle;\n",
       "    }\n",
       "\n",
       "    .dataframe tbody tr th {\n",
       "        vertical-align: top;\n",
       "    }\n",
       "\n",
       "    .dataframe thead th {\n",
       "        text-align: right;\n",
       "    }\n",
       "</style>\n",
       "<table border=\"1\" class=\"dataframe\">\n",
       "  <thead>\n",
       "    <tr style=\"text-align: right;\">\n",
       "      <th></th>\n",
       "      <th>id</th>\n",
       "      <th>affiliate_id</th>\n",
       "      <th>country_code</th>\n",
       "      <th>is_kyc_approved</th>\n",
       "      <th>created_at</th>\n",
       "      <th>updated_at</th>\n",
       "    </tr>\n",
       "  </thead>\n",
       "  <tbody>\n",
       "    <tr>\n",
       "      <th>0</th>\n",
       "      <td>1</td>\n",
       "      <td>1</td>\n",
       "      <td>1</td>\n",
       "      <td>1</td>\n",
       "      <td>1</td>\n",
       "      <td>1</td>\n",
       "    </tr>\n",
       "    <tr>\n",
       "      <th>1</th>\n",
       "      <td>2</td>\n",
       "      <td>0</td>\n",
       "      <td>1</td>\n",
       "      <td>1</td>\n",
       "      <td>1</td>\n",
       "      <td>1</td>\n",
       "    </tr>\n",
       "    <tr>\n",
       "      <th>2</th>\n",
       "      <td>3</td>\n",
       "      <td>1</td>\n",
       "      <td>1</td>\n",
       "      <td>1</td>\n",
       "      <td>1</td>\n",
       "      <td>1</td>\n",
       "    </tr>\n",
       "    <tr>\n",
       "      <th>3</th>\n",
       "      <td>4</td>\n",
       "      <td>1</td>\n",
       "      <td>1</td>\n",
       "      <td>1</td>\n",
       "      <td>1</td>\n",
       "      <td>1</td>\n",
       "    </tr>\n",
       "    <tr>\n",
       "      <th>4</th>\n",
       "      <td>5</td>\n",
       "      <td>1</td>\n",
       "      <td>1</td>\n",
       "      <td>1</td>\n",
       "      <td>1</td>\n",
       "      <td>1</td>\n",
       "    </tr>\n",
       "    <tr>\n",
       "      <th>5</th>\n",
       "      <td>6</td>\n",
       "      <td>0</td>\n",
       "      <td>1</td>\n",
       "      <td>1</td>\n",
       "      <td>1</td>\n",
       "      <td>1</td>\n",
       "    </tr>\n",
       "    <tr>\n",
       "      <th>6</th>\n",
       "      <td>7</td>\n",
       "      <td>1</td>\n",
       "      <td>1</td>\n",
       "      <td>1</td>\n",
       "      <td>1</td>\n",
       "      <td>1</td>\n",
       "    </tr>\n",
       "    <tr>\n",
       "      <th>7</th>\n",
       "      <td>8</td>\n",
       "      <td>1</td>\n",
       "      <td>1</td>\n",
       "      <td>1</td>\n",
       "      <td>1</td>\n",
       "      <td>1</td>\n",
       "    </tr>\n",
       "    <tr>\n",
       "      <th>8</th>\n",
       "      <td>9</td>\n",
       "      <td>1</td>\n",
       "      <td>1</td>\n",
       "      <td>1</td>\n",
       "      <td>1</td>\n",
       "      <td>1</td>\n",
       "    </tr>\n",
       "    <tr>\n",
       "      <th>9</th>\n",
       "      <td>10</td>\n",
       "      <td>2</td>\n",
       "      <td>2</td>\n",
       "      <td>2</td>\n",
       "      <td>2</td>\n",
       "      <td>2</td>\n",
       "    </tr>\n",
       "  </tbody>\n",
       "</table>\n",
       "</div>"
      ],
      "text/plain": [
       "   id  affiliate_id  country_code  is_kyc_approved  created_at  updated_at\n",
       "0   1             1             1                1           1           1\n",
       "1   2             0             1                1           1           1\n",
       "2   3             1             1                1           1           1\n",
       "3   4             1             1                1           1           1\n",
       "4   5             1             1                1           1           1\n",
       "5   6             0             1                1           1           1\n",
       "6   7             1             1                1           1           1\n",
       "7   8             1             1                1           1           1\n",
       "8   9             1             1                1           1           1\n",
       "9  10             2             2                2           2           2"
      ]
     },
     "execution_count": 10,
     "metadata": {},
     "output_type": "execute_result"
    }
   ],
   "source": [
    "df_players.groupby('id', as_index=False, dropna=False).count()"
   ]
  },
  {
   "cell_type": "code",
   "execution_count": 11,
   "id": "d465ebfd",
   "metadata": {},
   "outputs": [
    {
     "data": {
      "text/html": [
       "<div>\n",
       "<style scoped>\n",
       "    .dataframe tbody tr th:only-of-type {\n",
       "        vertical-align: middle;\n",
       "    }\n",
       "\n",
       "    .dataframe tbody tr th {\n",
       "        vertical-align: top;\n",
       "    }\n",
       "\n",
       "    .dataframe thead th {\n",
       "        text-align: right;\n",
       "    }\n",
       "</style>\n",
       "<table border=\"1\" class=\"dataframe\">\n",
       "  <thead>\n",
       "    <tr style=\"text-align: right;\">\n",
       "      <th></th>\n",
       "      <th>id</th>\n",
       "      <th>affiliate_id</th>\n",
       "      <th>country_code</th>\n",
       "      <th>is_kyc_approved</th>\n",
       "      <th>created_at</th>\n",
       "      <th>updated_at</th>\n",
       "    </tr>\n",
       "  </thead>\n",
       "  <tbody>\n",
       "    <tr>\n",
       "      <th>9</th>\n",
       "      <td>10</td>\n",
       "      <td>8.0</td>\n",
       "      <td>CA</td>\n",
       "      <td>False</td>\n",
       "      <td>2024-10-14 23:45:05+00:00</td>\n",
       "      <td>2024-11-04 11:19:33+00:00</td>\n",
       "    </tr>\n",
       "    <tr>\n",
       "      <th>10</th>\n",
       "      <td>10</td>\n",
       "      <td>8.0</td>\n",
       "      <td>CA</td>\n",
       "      <td>True</td>\n",
       "      <td>2024-10-14 23:45:05+00:00</td>\n",
       "      <td>2024-11-06 12:31:09+00:00</td>\n",
       "    </tr>\n",
       "  </tbody>\n",
       "</table>\n",
       "</div>"
      ],
      "text/plain": [
       "    id  affiliate_id country_code  is_kyc_approved                 created_at  \\\n",
       "9   10           8.0           CA            False  2024-10-14 23:45:05+00:00   \n",
       "10  10           8.0           CA             True  2024-10-14 23:45:05+00:00   \n",
       "\n",
       "                   updated_at  \n",
       "9   2024-11-04 11:19:33+00:00  \n",
       "10  2024-11-06 12:31:09+00:00  "
      ]
     },
     "execution_count": 11,
     "metadata": {},
     "output_type": "execute_result"
    }
   ],
   "source": [
    "df_players[df_players['id']==10]"
   ]
  },
  {
   "cell_type": "code",
   "execution_count": null,
   "id": "7df5813a",
   "metadata": {},
   "outputs": [],
   "source": []
  }
 ],
 "metadata": {
  "kernelspec": {
   "display_name": ".venv",
   "language": "python",
   "name": "python3"
  },
  "language_info": {
   "codemirror_mode": {
    "name": "ipython",
    "version": 3
   },
   "file_extension": ".py",
   "mimetype": "text/x-python",
   "name": "python",
   "nbconvert_exporter": "python",
   "pygments_lexer": "ipython3",
   "version": "3.9.6"
  }
 },
 "nbformat": 4,
 "nbformat_minor": 5
}
